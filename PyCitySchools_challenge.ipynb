{
 "cells": [
  {
   "cell_type": "code",
   "execution_count": 2735,
   "metadata": {},
   "outputs": [],
   "source": [
    "#import \n",
    "import pandas as pd\n",
    "import numpy as np"
   ]
  },
  {
   "cell_type": "code",
   "execution_count": 2736,
   "metadata": {},
   "outputs": [],
   "source": [
    "#files to load\n",
    "school_data_to_load = (\"resources/schools_complete.csv\")\n",
    "student_data_to_load = (\"resources/students_complete.csv\")"
   ]
  },
  {
   "cell_type": "code",
   "execution_count": 2737,
   "metadata": {},
   "outputs": [],
   "source": [
    "#read csv data and add it to dataframes\n",
    "school_df = pd.read_csv(school_data_to_load)\n",
    "student_df = pd.read_csv(student_data_to_load)"
   ]
  },
  {
   "cell_type": "code",
   "execution_count": 2738,
   "metadata": {},
   "outputs": [],
   "source": [
    "# Add each prefix and suffix to remove to a list.\n",
    "prefixes_suffixes = [\"Dr. \", \"Mr. \",\"Ms. \", \"Mrs. \", \"Miss \", \" MD\", \" DDS\", \" DVM\", \" PhD\"]\n",
    "# Iterate through the words in the \"prefixes_suffixes\" list and replace them with an empty space, \"\".\n",
    "for word in prefixes_suffixes:\n",
    "    student_df[\"student_name\"] = student_df[\"student_name\"].str.replace(word,\"\")"
   ]
  },
  {
   "cell_type": "code",
   "execution_count": 2739,
   "metadata": {},
   "outputs": [],
   "source": [
    "# change all thomas high 9th grader reading and math scores to nan\n",
    "student_df.loc[(student_df.school_name == \"Thomas High School\") & (student_df.grade == \"9th\"), \"math_score\"] = np.nan\n",
    "student_df.loc[(student_df.school_name == \"Thomas High School\") & (student_df.grade == \"9th\"), \"reading_score\"] = np.nan"
   ]
  },
  {
   "cell_type": "code",
   "execution_count": 2740,
   "metadata": {},
   "outputs": [],
   "source": [
    "# Combine the data into a single dataset.\n",
    "school_data_complete_df = pd.merge(student_df, school_df, on=[\"school_name\", \"school_name\"])"
   ]
  },
  {
   "cell_type": "code",
   "execution_count": 2741,
   "metadata": {},
   "outputs": [],
   "source": [
    "#get total number of students\n",
    "student_count = school_data_complete_df[\"Student ID\"].count()\n"
   ]
  },
  {
   "cell_type": "code",
   "execution_count": 2742,
   "metadata": {},
   "outputs": [],
   "source": [
    "#get total number of schools\n",
    "school_count = school_df[\"school_name\"].count()\n"
   ]
  },
  {
   "cell_type": "code",
   "execution_count": 2743,
   "metadata": {},
   "outputs": [],
   "source": [
    "#get total budget\n",
    "total_budget = school_df[\"budget\"].sum()"
   ]
  },
  {
   "cell_type": "code",
   "execution_count": 2744,
   "metadata": {},
   "outputs": [],
   "source": [
    "#average reading score\n",
    "average_reading = school_data_complete_df[\"reading_score\"].mean()"
   ]
  },
  {
   "cell_type": "code",
   "execution_count": 2745,
   "metadata": {},
   "outputs": [],
   "source": [
    "#average math score\n",
    "average_math = school_data_complete_df[\"math_score\"].mean()"
   ]
  },
  {
   "cell_type": "code",
   "execution_count": 2746,
   "metadata": {},
   "outputs": [],
   "source": [
    "# Get all the students who are passing math in a new DataFrame.\n",
    "passing_math = school_data_complete_df[school_data_complete_df[\"math_score\"] >= 70]"
   ]
  },
  {
   "cell_type": "code",
   "execution_count": 2747,
   "metadata": {},
   "outputs": [],
   "source": [
    "# Get all the students that are passing reading in a new DataFrame.\n",
    "passing_reading = school_data_complete_df[school_data_complete_df[\"reading_score\"] >= 70]"
   ]
  },
  {
   "cell_type": "code",
   "execution_count": 2748,
   "metadata": {},
   "outputs": [],
   "source": [
    "# Calculate the number of students passing math.\n",
    "passing_math_count = passing_math[\"student_name\"].count()\n",
    "# Calculate the number of students passing reading.\n",
    "passing_reading_count = passing_reading[\"student_name\"].count()"
   ]
  },
  {
   "cell_type": "code",
   "execution_count": 2749,
   "metadata": {},
   "outputs": [],
   "source": [
    "#get percentages of students passing math and reading\n",
    "passing_math_percentage = passing_math_count/float(student_count) * 100\n",
    "passing_reading_percentage = passing_reading_count/float(student_count) * 100"
   ]
  },
  {
   "cell_type": "code",
   "execution_count": 2750,
   "metadata": {},
   "outputs": [],
   "source": [
    "#get students passing both math and reading\n",
    "passing_math_reading = school_data_complete_df[(school_data_complete_df[\"math_score\"] >= 70) & (school_data_complete_df[\"reading_score\"] >= 70)]\n"
   ]
  },
  {
   "cell_type": "code",
   "execution_count": 2751,
   "metadata": {},
   "outputs": [],
   "source": [
    "#calc number of students passing both\n",
    "passing_both = passing_math_reading[\"student_name\"].count()"
   ]
  },
  {
   "cell_type": "code",
   "execution_count": 2752,
   "metadata": {},
   "outputs": [],
   "source": [
    "#calc percentage of students passing both\n",
    "overall_passing_percent = passing_both/float(student_count) *100"
   ]
  },
  {
   "cell_type": "code",
   "execution_count": 2753,
   "metadata": {},
   "outputs": [],
   "source": [
    "# Adding a list of values with keys to create a new DataFrame.\n",
    "district_summary_df = pd.DataFrame(\n",
    "          [{\"Total Schools\": school_count,\n",
    "          \"Total Students\": student_count,\n",
    "          \"Total Budget\": total_budget,\n",
    "          \"Average Math Score\": average_math,\n",
    "          \"Average Reading Score\": average_reading,\n",
    "          \"% Passing Math\": passing_math_percentage,\n",
    "         \"% Passing Reading\": passing_reading_percentage,\n",
    "        \"% Overall Passing\": overall_passing_percent}])\n"
   ]
  },
  {
   "cell_type": "code",
   "execution_count": 2754,
   "metadata": {},
   "outputs": [],
   "source": [
    "#format the columns to remove unwanted decimal places and add commas where necessary\n",
    "district_summary_df[\"Total Students\"] = district_summary_df[\"Total Students\"].map(\"{:,}\".format)\n",
    "district_summary_df[\"Total Students\"]\n",
    "district_summary_df[\"Total Budget\"] = district_summary_df[\"Total Budget\"].map(\"${:,.2f}\".format)\n",
    "district_summary_df[\"Total Budget\"]\n",
    "district_summary_df[\"Average Math Score\"] = district_summary_df[\"Average Math Score\"].map(\"{:.1f}\".format)\n",
    "district_summary_df[\"Average Reading Score\"] = district_summary_df[\"Average Reading Score\"].map(\"{:.1f}\".format)\n",
    "district_summary_df[\"% Passing Math\"] = district_summary_df[\"% Passing Math\"].map(\"{:.0f}\".format)\n",
    "district_summary_df[\"% Passing Reading\"] = district_summary_df[\"% Passing Reading\"].map(\"{:.0f}\".format)\n",
    "district_summary_df[\"% Overall Passing\"] = district_summary_df[\"% Overall Passing\"].map(\"{:.0f}\".format)"
   ]
  },
  {
   "cell_type": "code",
   "execution_count": 2755,
   "metadata": {},
   "outputs": [],
   "source": [
    "#determine the school type.\n",
    "per_school_types = school_df.set_index([\"school_name\"])[\"type\"]"
   ]
  },
  {
   "cell_type": "code",
   "execution_count": 2756,
   "metadata": {},
   "outputs": [],
   "source": [
    "#add school types to a dataframe for testing\n",
    "df = pd.DataFrame(per_school_types)"
   ]
  },
  {
   "cell_type": "code",
   "execution_count": 2757,
   "metadata": {},
   "outputs": [],
   "source": [
    "# Calculate the total student count.\n",
    "per_school_counts = school_df.set_index([\"school_name\"])[\"size\"]"
   ]
  },
  {
   "cell_type": "code",
   "execution_count": 2758,
   "metadata": {},
   "outputs": [],
   "source": [
    "# Calculate the total school budget.\n",
    "per_school_budget = school_df.set_index([\"school_name\"])[\"budget\"]"
   ]
  },
  {
   "cell_type": "code",
   "execution_count": 2759,
   "metadata": {},
   "outputs": [],
   "source": [
    "# Calculate the per capita spending.\n",
    "per_school_capita = per_school_budget / per_school_counts"
   ]
  },
  {
   "cell_type": "code",
   "execution_count": 2760,
   "metadata": {},
   "outputs": [],
   "source": [
    "# Calculate the passing scores by creating a filtered DataFrame.\n",
    "per_school_passing_math = school_data_complete_df[(school_data_complete_df[\"math_score\"] >= 70)]\n",
    "\n",
    "per_school_passing_reading = school_data_complete_df[(school_data_complete_df[\"reading_score\"] >= 70)]\n"
   ]
  },
  {
   "cell_type": "code",
   "execution_count": 2761,
   "metadata": {},
   "outputs": [],
   "source": [
    "# Calculate the average test scores.\n",
    "per_school_math = school_data_complete_df.groupby([\"school_name\"]).mean()[\"math_score\"]\n",
    "per_school_reading = school_data_complete_df.groupby([\"school_name\"]).mean()[\"reading_score\"]"
   ]
  },
  {
   "cell_type": "code",
   "execution_count": 2762,
   "metadata": {},
   "outputs": [],
   "source": [
    "# Calculate the number of students passing math and passing reading by school.\n",
    "per_school_passing_math = per_school_passing_math.groupby([\"school_name\"]).count()[\"student_name\"]\n",
    "\n",
    "per_school_passing_reading = per_school_passing_reading.groupby([\"school_name\"]).count()[\"student_name\"]\n"
   ]
  },
  {
   "cell_type": "code",
   "execution_count": 2763,
   "metadata": {},
   "outputs": [],
   "source": [
    "# Calculate the percentage of passing math and reading scores per school.\n",
    "per_school_passing_math = per_school_passing_math / per_school_counts * 100\n",
    "per_school_passing_reading = per_school_passing_reading / per_school_counts * 100"
   ]
  },
  {
   "cell_type": "code",
   "execution_count": 2764,
   "metadata": {},
   "outputs": [],
   "source": [
    "# Calculate the students who passed both math and reading.\n",
    "per_passing_math_reading = school_data_complete_df[(school_data_complete_df[\"math_score\"] >= 70) & (school_data_complete_df[\"reading_score\"] >= 70)]"
   ]
  },
  {
   "cell_type": "code",
   "execution_count": 2765,
   "metadata": {},
   "outputs": [],
   "source": [
    "# Calculate the number of students who passed both math and reading.\n",
    "per_passing_math_reading = per_passing_math_reading.groupby([\"school_name\"]).count()[\"student_name\"]"
   ]
  },
  {
   "cell_type": "code",
   "execution_count": 2766,
   "metadata": {},
   "outputs": [],
   "source": [
    "# Calculate the overall passing percentage.\n",
    "per_overall_passing_percentage = per_passing_math_reading / per_school_counts * 100"
   ]
  },
  {
   "cell_type": "code",
   "execution_count": 2767,
   "metadata": {},
   "outputs": [],
   "source": [
    "# Adding a list of values with keys to create a new DataFrame.\n",
    "per_school_summary_df = pd.DataFrame({\n",
    "             \"School Type\": per_school_types,\n",
    "             \"Total Students\": per_school_counts,\n",
    "             \"Total School Budget\": per_school_budget,\n",
    "             \"Per Student Budget\": per_school_capita,\n",
    "             \"Average Math Score\": per_school_math,\n",
    "           \"Average Reading Score\": per_school_reading,\n",
    "           \"% Passing Math\": per_school_passing_math,\n",
    "           \"% Passing Reading\": per_school_passing_reading,\n",
    "           \"% Overall Passing\": per_overall_passing_percentage})"
   ]
  },
  {
   "cell_type": "code",
   "execution_count": 2768,
   "metadata": {},
   "outputs": [],
   "source": [
    "# Format the Total School Budget and the Per Student Budget columns.\n",
    "per_school_summary_df[\"Total School Budget\"] = per_school_summary_df[\"Total School Budget\"].map(\"${:,.2f}\".format)\n",
    "per_school_summary_df[\"Per Student Budget\"] = per_school_summary_df[\"Per Student Budget\"].map(\"${:,.2f}\".format)"
   ]
  },
  {
   "cell_type": "code",
   "execution_count": 2769,
   "metadata": {},
   "outputs": [],
   "source": [
    "# Sort and show top five schools \n",
    "top_schools = per_school_summary_df.sort_values([\"% Overall Passing\"], ascending=False)"
   ]
  },
  {
   "cell_type": "code",
   "execution_count": 2770,
   "metadata": {},
   "outputs": [],
   "source": [
    "# Sort and show bottom five schools\n",
    "bottom_schools = per_school_summary_df.sort_values([\"% Overall Passing\"], ascending=True)"
   ]
  },
  {
   "cell_type": "code",
   "execution_count": 2771,
   "metadata": {},
   "outputs": [],
   "source": [
    "#create grade level data frames\n",
    "ninth_grade = school_data_complete_df[(school_data_complete_df[\"grade\"] == \"9th\")]\n",
    "tenth_grade = school_data_complete_df[(school_data_complete_df[\"grade\"] == \"10th\")]\n",
    "eleventh_grade = school_data_complete_df[(school_data_complete_df[\"grade\"] == \"11th\")]\n",
    "twelfth_grade = school_data_complete_df[(school_data_complete_df[\"grade\"] == \"12th\")]"
   ]
  },
  {
   "cell_type": "code",
   "execution_count": 2772,
   "metadata": {},
   "outputs": [],
   "source": [
    "#group each school series by name of school and math score\n",
    "ninth_grade_math_scores = ninth_grade.groupby([\"school_name\"]).mean()[\"math_score\"]\n",
    "tenth_grade_math_scores = tenth_grade.groupby([\"school_name\"]).mean()[\"math_score\"]\n",
    "eleventh_grade_math_scores = eleventh_grade.groupby([\"school_name\"]).mean()[\"math_score\"]\n",
    "twelfth_grade_math_scores = twelfth_grade.groupby([\"school_name\"]).mean()[\"math_score\"]"
   ]
  },
  {
   "cell_type": "code",
   "execution_count": 2773,
   "metadata": {},
   "outputs": [],
   "source": [
    "#group each school series by name of school and reading score\n",
    "ninth_grade_reading_scores = ninth_grade.groupby([\"school_name\"]).mean()[\"reading_score\"]\n",
    "tenth_grade_reading_scores = tenth_grade.groupby([\"school_name\"]).mean()[\"reading_score\"]\n",
    "eleventh_grade_reading_scores = eleventh_grade.groupby([\"school_name\"]).mean()[\"reading_score\"]\n",
    "twelfth_grade_reading_scores = twelfth_grade.groupby([\"school_name\"]).mean()[\"reading_score\"]"
   ]
  },
  {
   "cell_type": "code",
   "execution_count": 2774,
   "metadata": {},
   "outputs": [],
   "source": [
    "# Combine each Series for average math scores by school into single DataFrame.\n",
    "math_scores_by_grade = pd.DataFrame({\n",
    "               \"9th\": ninth_grade_math_scores,\n",
    "               \"10th\": tenth_grade_math_scores,\n",
    "               \"11th\": eleventh_grade_math_scores,\n",
    "               \"12th\": twelfth_grade_math_scores})"
   ]
  },
  {
   "cell_type": "code",
   "execution_count": 2775,
   "metadata": {},
   "outputs": [],
   "source": [
    "  # Format each grade column.\n",
    "  math_scores_by_grade[\"9th\"] = math_scores_by_grade[\"9th\"].map(\"{:.1f}\".format)\n",
    "  math_scores_by_grade[\"10th\"] = math_scores_by_grade[\"10th\"].map(\"{:.1f}\".format)\n",
    "  math_scores_by_grade[\"11th\"] = math_scores_by_grade[\"11th\"].map(\"{:.1f}\".format)\n",
    "  math_scores_by_grade[\"12th\"] = math_scores_by_grade[\"12th\"].map(\"{:.1f}\".format)\n",
    "  # Make sure the columns are in the correct order.\n",
    "  math_scores_by_grade = math_scores_by_grade[\n",
    "                 [\"9th\", \"10th\", \"11th\", \"12th\"]]\n",
    "  # Remove the index name.\n",
    "  math_scores_by_grade.index.name = None\n"
   ]
  },
  {
   "cell_type": "code",
   "execution_count": 2776,
   "metadata": {},
   "outputs": [],
   "source": [
    "# Combine each Series for average reading scores by school into single DataFrame.\n",
    "reading_scores_by_grade = pd.DataFrame({\n",
    "              \"9th\": ninth_grade_reading_scores,\n",
    "              \"10th\": tenth_grade_reading_scores,\n",
    "              \"11th\": eleventh_grade_reading_scores,\n",
    "              \"12th\": twelfth_grade_reading_scores})"
   ]
  },
  {
   "cell_type": "code",
   "execution_count": 2777,
   "metadata": {},
   "outputs": [],
   "source": [
    "  # Format each grade column.\n",
    "  reading_scores_by_grade[\"9th\"] = reading_scores_by_grade[\"9th\"].map(\"{:,.1f}\".format)\n",
    "  reading_scores_by_grade[\"10th\"] = reading_scores_by_grade[\"10th\"].map(\"{:,.1f}\".format)\n",
    "  reading_scores_by_grade[\"11th\"] = reading_scores_by_grade[\"11th\"].map(\"{:,.1f}\".format)\n",
    "  reading_scores_by_grade[\"12th\"] = reading_scores_by_grade[\"12th\"].map(\"{:,.1f}\".format)\n",
    "  # Make sure the columns are in the correct order.\n",
    "  reading_scores_by_grade = reading_scores_by_grade[\n",
    "                 [\"9th\", \"10th\", \"11th\", \"12th\"]]\n",
    "  # Remove the index name.\n",
    "  reading_scores_by_grade.index.name = None"
   ]
  },
  {
   "cell_type": "code",
   "execution_count": 2778,
   "metadata": {},
   "outputs": [
    {
     "output_type": "execute_result",
     "data": {
      "text/plain": "(0, 585]      4\n(585, 630]    4\n(630, 645]    4\n(645, 675]    3\ndtype: int64"
     },
     "metadata": {},
     "execution_count": 2778
    }
   ],
   "source": [
    "#create 4 bins to group schools by spending amount \n",
    "spending_bins = [0, 585, 630, 645, 675]\n",
    "group_names = [\"<$584\", \"$585-629\", \"$630-644\", \"$645-675\"]\n",
    "#cut per_school_capita into bins \n",
    "per_school_capita.groupby(pd.cut(per_school_capita, spending_bins)).count() "
   ]
  },
  {
   "cell_type": "code",
   "execution_count": 2779,
   "metadata": {},
   "outputs": [],
   "source": [
    "#categorize spending based on the bins.\n",
    "per_school_summary_df[\"Spending Ranges (Per Student)\"] = pd.cut(per_school_capita, spending_bins, labels=group_names)"
   ]
  },
  {
   "cell_type": "code",
   "execution_count": 2780,
   "metadata": {},
   "outputs": [],
   "source": [
    "#calculate averages for the desired columns.\n",
    "spending_math_scores = per_school_summary_df.groupby([\"Spending Ranges (Per Student)\"]).mean()[\"Average Math Score\"]\n",
    "spending_reading_scores = per_school_summary_df.groupby([\"Spending Ranges (Per Student)\"]).mean()[\"Average Reading Score\"]\n",
    "spending_passing_math = per_school_summary_df.groupby([\"Spending Ranges (Per Student)\"]).mean()[\"% Passing Math\"]\n",
    "spending_passing_reading = per_school_summary_df.groupby([\"Spending Ranges (Per Student)\"]).mean()[\"% Passing Reading\"]\n",
    "overall_passing_spending = per_school_summary_df.groupby([\"Spending Ranges (Per Student)\"]).mean()[\"% Overall Passing\"]"
   ]
  },
  {
   "cell_type": "code",
   "execution_count": 2781,
   "metadata": {},
   "outputs": [],
   "source": [
    "#assemble into DataFrame\n",
    "spending_summary_df = pd.DataFrame({\n",
    "          \"Average Math Score\" : spending_math_scores,\n",
    "          \"Average Reading Score\": spending_reading_scores,\n",
    "          \"% Passing Math\": spending_passing_math,\n",
    "          \"% Passing Reading\": spending_passing_reading,\n",
    "          \"% Overall Passing\": overall_passing_spending})\n"
   ]
  },
  {
   "cell_type": "code",
   "execution_count": 2782,
   "metadata": {},
   "outputs": [],
   "source": [
    "#formatting\n",
    "spending_summary_df[\"Average Math Score\"] = spending_summary_df[\"Average Math Score\"].map(\"{:.1f}\".format)\n",
    "spending_summary_df[\"Average Reading Score\"] = spending_summary_df[\"Average Reading Score\"].map(\"{:.1f}\".format)\n",
    "spending_summary_df[\"% Passing Math\"] = spending_summary_df[\"% Passing Math\"].map(\"{:.0f}\".format)\n",
    "spending_summary_df[\"% Passing Reading\"] = spending_summary_df[\"% Passing Reading\"].map(\"{:.0f}\".format)\n",
    "spending_summary_df[\"% Overall Passing\"] = spending_summary_df[\"% Overall Passing\"].map(\"{:.0f}\".format)"
   ]
  },
  {
   "cell_type": "code",
   "execution_count": 2783,
   "metadata": {},
   "outputs": [],
   "source": [
    "#create bins for school size based on students \n",
    "size_bins = [0,1000,2000,5000]\n",
    "group_names = [\"Small (<1000)\", \"Medium (1000-2000)\", \"Large (2000-5000)\"]\n"
   ]
  },
  {
   "cell_type": "code",
   "execution_count": 2784,
   "metadata": {},
   "outputs": [],
   "source": [
    "#categorize spending based on the bins\n",
    "per_school_summary_df[\"School Size\"] = pd.cut(per_school_summary_df[\"Total Students\"], size_bins, labels=group_names)"
   ]
  },
  {
   "cell_type": "code",
   "execution_count": 2785,
   "metadata": {},
   "outputs": [],
   "source": [
    "#calculate averages for the desired columns\n",
    "size_math_scores = per_school_summary_df.groupby([\"School Size\"]).mean()[\"Average Math Score\"]\n",
    "size_reading_scores = per_school_summary_df.groupby([\"School Size\"]).mean()[\"Average Reading Score\"]\n",
    "size_passing_math = per_school_summary_df.groupby([\"School Size\"]).mean()[\"% Passing Math\"]\n",
    "size_passing_reading = per_school_summary_df.groupby([\"School Size\"]).mean()[\"% Passing Reading\"]\n",
    "size_overall_passing = per_school_summary_df.groupby([\"School Size\"]).mean()[\"% Overall Passing\"]"
   ]
  },
  {
   "cell_type": "code",
   "execution_count": 2786,
   "metadata": {},
   "outputs": [],
   "source": [
    "#assemble into DataFrame\n",
    "size_summary_df = pd.DataFrame({\n",
    "          \"Average Math Score\" : size_math_scores,\n",
    "          \"Average Reading Score\": size_reading_scores,\n",
    "          \"% Passing Math\": size_passing_math,\n",
    "          \"% Passing Reading\": size_passing_reading,\n",
    "          \"% Overall Passing\": size_overall_passing})"
   ]
  },
  {
   "cell_type": "code",
   "execution_count": 2787,
   "metadata": {},
   "outputs": [],
   "source": [
    "#formatting\n",
    "size_summary_df[\"Average Math Score\"] = size_summary_df[\"Average Math Score\"].map(\"{:.1f}\".format)\n",
    "size_summary_df[\"Average Reading Score\"] = size_summary_df[\"Average Reading Score\"].map(\"{:.1f}\".format)\n",
    "size_summary_df[\"% Passing Math\"] = size_summary_df[\"% Passing Math\"].map(\"{:.0f}\".format)\n",
    "size_summary_df[\"% Passing Reading\"] = size_summary_df[\"% Passing Reading\"].map(\"{:.0f}\".format)\n",
    "size_summary_df[\"% Overall Passing\"] = size_summary_df[\"% Overall Passing\"].map(\"{:.0f}\".format)"
   ]
  },
  {
   "cell_type": "code",
   "execution_count": 2788,
   "metadata": {},
   "outputs": [],
   "source": [
    "#calculate averages for the desired columns\n",
    "type_math_scores = per_school_summary_df.groupby([\"School Type\"]).mean()[\"Average Math Score\"]\n",
    "type_reading_scores = per_school_summary_df.groupby([\"School Type\"]).mean()[\"Average Reading Score\"]\n",
    "type_passing_math = per_school_summary_df.groupby([\"School Type\"]).mean()[\"% Passing Math\"]\n",
    "type_passing_reading = per_school_summary_df.groupby([\"School Type\"]).mean()[\"% Passing Reading\"]\n",
    "type_overall_passing = per_school_summary_df.groupby([\"School Type\"]).mean()[\"% Overall Passing\"]"
   ]
  },
  {
   "cell_type": "code",
   "execution_count": 2789,
   "metadata": {},
   "outputs": [],
   "source": [
    "#assemble into DataFrame\n",
    "type_summary_df = pd.DataFrame({\n",
    "          \"Average Math Score\" : type_math_scores,\n",
    "          \"Average Reading Score\": type_reading_scores,\n",
    "          \"% Passing Math\": type_passing_math,\n",
    "          \"% Passing Reading\": type_passing_reading,\n",
    "          \"% Overall Passing\": type_overall_passing})"
   ]
  },
  {
   "cell_type": "code",
   "execution_count": 2790,
   "metadata": {},
   "outputs": [],
   "source": [
    "#formatting\n",
    "type_summary_df[\"Average Math Score\"] = type_summary_df[\"Average Math Score\"].map(\"{:.1f}\".format)\n",
    "type_summary_df[\"Average Reading Score\"] = type_summary_df[\"Average Reading Score\"].map(\"{:.1f}\".format)\n",
    "type_summary_df[\"% Passing Math\"] = type_summary_df[\"% Passing Math\"].map(\"{:.0f}\".format)\n",
    "type_summary_df[\"% Passing Reading\"] = type_summary_df[\"% Passing Reading\"].map(\"{:.0f}\".format)\n",
    "type_summary_df[\"% Overall Passing\"] = type_summary_df[\"% Overall Passing\"].map(\"{:.0f}\".format)"
   ]
  },
  {
   "cell_type": "code",
   "execution_count": 2791,
   "metadata": {},
   "outputs": [
    {
     "output_type": "execute_result",
     "data": {
      "text/plain": "                      School Type  Total Students Total School Budget  \\\nBailey High School       District            4976       $3,124,928.00   \nCabrera High School       Charter            1858       $1,081,356.00   \nFigueroa High School     District            2949       $1,884,411.00   \nFord High School         District            2739       $1,763,916.00   \nGriffin High School       Charter            1468         $917,500.00   \nHernandez High School    District            4635       $3,022,020.00   \nHolden High School        Charter             427         $248,087.00   \nHuang High School        District            2917       $1,910,635.00   \nJohnson High School      District            4761       $3,094,650.00   \nPena High School          Charter             962         $585,858.00   \nRodriguez High School    District            3999       $2,547,363.00   \nShelton High School       Charter            1761       $1,056,600.00   \nThomas High School        Charter            1635       $1,043,130.00   \nWilson High School        Charter            2283       $1,319,574.00   \nWright High School        Charter            1800       $1,049,400.00   \n\n                      Per Student Budget  Average Math Score  \\\nBailey High School               $628.00           77.048432   \nCabrera High School              $582.00           83.061895   \nFigueroa High School             $639.00           76.711767   \nFord High School                 $644.00           77.102592   \nGriffin High School              $625.00           83.351499   \nHernandez High School            $652.00           77.289752   \nHolden High School               $581.00           83.803279   \nHuang High School                $655.00           76.629414   \nJohnson High School              $650.00           77.072464   \nPena High School                 $609.00           83.839917   \nRodriguez High School            $637.00           76.842711   \nShelton High School              $600.00           83.359455   \nThomas High School               $638.00           83.350937   \nWilson High School               $578.00           83.274201   \nWright High School               $583.00           83.682222   \n\n                       Average Reading Score  % Passing Math  \\\nBailey High School                 81.033963       66.680064   \nCabrera High School                83.975780       94.133477   \nFigueroa High School               81.158020       65.988471   \nFord High School                   80.746258       68.309602   \nGriffin High School                83.816757       93.392371   \nHernandez High School              80.934412       66.752967   \nHolden High School                 83.814988       92.505855   \nHuang High School                  81.182722       65.683922   \nJohnson High School                80.966394       66.057551   \nPena High School                   84.044699       94.594595   \nRodriguez High School              80.744686       66.366592   \nShelton High School                83.725724       93.867121   \nThomas High School                 83.896082       66.911315   \nWilson High School                 83.989488       93.867718   \nWright High School                 83.955000       93.333333   \n\n                       % Passing Reading  % Overall Passing  \\\nBailey High School             81.933280          54.642283   \nCabrera High School            97.039828          91.334769   \nFigueroa High School           80.739234          53.204476   \nFord High School               79.299014          54.289887   \nGriffin High School            97.138965          90.599455   \nHernandez High School          80.862999          53.527508   \nHolden High School             96.252927          89.227166   \nHuang High School              81.316421          53.513884   \nJohnson High School            81.222432          53.539172   \nPena High School               95.945946          90.540541   \nRodriguez High School          80.220055          52.988247   \nShelton High School            95.854628          89.892107   \nThomas High School             69.663609          65.076453   \nWilson High School             96.539641          90.582567   \nWright High School             96.611111          90.333333   \n\n                      Spending Ranges (Per Student)         School Size  \nBailey High School                         $585-629   Large (2000-5000)  \nCabrera High School                           <$584  Medium (1000-2000)  \nFigueroa High School                       $630-644   Large (2000-5000)  \nFord High School                           $630-644   Large (2000-5000)  \nGriffin High School                        $585-629  Medium (1000-2000)  \nHernandez High School                      $645-675   Large (2000-5000)  \nHolden High School                            <$584       Small (<1000)  \nHuang High School                          $645-675   Large (2000-5000)  \nJohnson High School                        $645-675   Large (2000-5000)  \nPena High School                           $585-629       Small (<1000)  \nRodriguez High School                      $630-644   Large (2000-5000)  \nShelton High School                        $585-629  Medium (1000-2000)  \nThomas High School                         $630-644  Medium (1000-2000)  \nWilson High School                            <$584   Large (2000-5000)  \nWright High School                            <$584  Medium (1000-2000)  ",
      "text/html": "<div>\n<style scoped>\n    .dataframe tbody tr th:only-of-type {\n        vertical-align: middle;\n    }\n\n    .dataframe tbody tr th {\n        vertical-align: top;\n    }\n\n    .dataframe thead th {\n        text-align: right;\n    }\n</style>\n<table border=\"1\" class=\"dataframe\">\n  <thead>\n    <tr style=\"text-align: right;\">\n      <th></th>\n      <th>School Type</th>\n      <th>Total Students</th>\n      <th>Total School Budget</th>\n      <th>Per Student Budget</th>\n      <th>Average Math Score</th>\n      <th>Average Reading Score</th>\n      <th>% Passing Math</th>\n      <th>% Passing Reading</th>\n      <th>% Overall Passing</th>\n      <th>Spending Ranges (Per Student)</th>\n      <th>School Size</th>\n    </tr>\n  </thead>\n  <tbody>\n    <tr>\n      <th>Bailey High School</th>\n      <td>District</td>\n      <td>4976</td>\n      <td>$3,124,928.00</td>\n      <td>$628.00</td>\n      <td>77.048432</td>\n      <td>81.033963</td>\n      <td>66.680064</td>\n      <td>81.933280</td>\n      <td>54.642283</td>\n      <td>$585-629</td>\n      <td>Large (2000-5000)</td>\n    </tr>\n    <tr>\n      <th>Cabrera High School</th>\n      <td>Charter</td>\n      <td>1858</td>\n      <td>$1,081,356.00</td>\n      <td>$582.00</td>\n      <td>83.061895</td>\n      <td>83.975780</td>\n      <td>94.133477</td>\n      <td>97.039828</td>\n      <td>91.334769</td>\n      <td>&lt;$584</td>\n      <td>Medium (1000-2000)</td>\n    </tr>\n    <tr>\n      <th>Figueroa High School</th>\n      <td>District</td>\n      <td>2949</td>\n      <td>$1,884,411.00</td>\n      <td>$639.00</td>\n      <td>76.711767</td>\n      <td>81.158020</td>\n      <td>65.988471</td>\n      <td>80.739234</td>\n      <td>53.204476</td>\n      <td>$630-644</td>\n      <td>Large (2000-5000)</td>\n    </tr>\n    <tr>\n      <th>Ford High School</th>\n      <td>District</td>\n      <td>2739</td>\n      <td>$1,763,916.00</td>\n      <td>$644.00</td>\n      <td>77.102592</td>\n      <td>80.746258</td>\n      <td>68.309602</td>\n      <td>79.299014</td>\n      <td>54.289887</td>\n      <td>$630-644</td>\n      <td>Large (2000-5000)</td>\n    </tr>\n    <tr>\n      <th>Griffin High School</th>\n      <td>Charter</td>\n      <td>1468</td>\n      <td>$917,500.00</td>\n      <td>$625.00</td>\n      <td>83.351499</td>\n      <td>83.816757</td>\n      <td>93.392371</td>\n      <td>97.138965</td>\n      <td>90.599455</td>\n      <td>$585-629</td>\n      <td>Medium (1000-2000)</td>\n    </tr>\n    <tr>\n      <th>Hernandez High School</th>\n      <td>District</td>\n      <td>4635</td>\n      <td>$3,022,020.00</td>\n      <td>$652.00</td>\n      <td>77.289752</td>\n      <td>80.934412</td>\n      <td>66.752967</td>\n      <td>80.862999</td>\n      <td>53.527508</td>\n      <td>$645-675</td>\n      <td>Large (2000-5000)</td>\n    </tr>\n    <tr>\n      <th>Holden High School</th>\n      <td>Charter</td>\n      <td>427</td>\n      <td>$248,087.00</td>\n      <td>$581.00</td>\n      <td>83.803279</td>\n      <td>83.814988</td>\n      <td>92.505855</td>\n      <td>96.252927</td>\n      <td>89.227166</td>\n      <td>&lt;$584</td>\n      <td>Small (&lt;1000)</td>\n    </tr>\n    <tr>\n      <th>Huang High School</th>\n      <td>District</td>\n      <td>2917</td>\n      <td>$1,910,635.00</td>\n      <td>$655.00</td>\n      <td>76.629414</td>\n      <td>81.182722</td>\n      <td>65.683922</td>\n      <td>81.316421</td>\n      <td>53.513884</td>\n      <td>$645-675</td>\n      <td>Large (2000-5000)</td>\n    </tr>\n    <tr>\n      <th>Johnson High School</th>\n      <td>District</td>\n      <td>4761</td>\n      <td>$3,094,650.00</td>\n      <td>$650.00</td>\n      <td>77.072464</td>\n      <td>80.966394</td>\n      <td>66.057551</td>\n      <td>81.222432</td>\n      <td>53.539172</td>\n      <td>$645-675</td>\n      <td>Large (2000-5000)</td>\n    </tr>\n    <tr>\n      <th>Pena High School</th>\n      <td>Charter</td>\n      <td>962</td>\n      <td>$585,858.00</td>\n      <td>$609.00</td>\n      <td>83.839917</td>\n      <td>84.044699</td>\n      <td>94.594595</td>\n      <td>95.945946</td>\n      <td>90.540541</td>\n      <td>$585-629</td>\n      <td>Small (&lt;1000)</td>\n    </tr>\n    <tr>\n      <th>Rodriguez High School</th>\n      <td>District</td>\n      <td>3999</td>\n      <td>$2,547,363.00</td>\n      <td>$637.00</td>\n      <td>76.842711</td>\n      <td>80.744686</td>\n      <td>66.366592</td>\n      <td>80.220055</td>\n      <td>52.988247</td>\n      <td>$630-644</td>\n      <td>Large (2000-5000)</td>\n    </tr>\n    <tr>\n      <th>Shelton High School</th>\n      <td>Charter</td>\n      <td>1761</td>\n      <td>$1,056,600.00</td>\n      <td>$600.00</td>\n      <td>83.359455</td>\n      <td>83.725724</td>\n      <td>93.867121</td>\n      <td>95.854628</td>\n      <td>89.892107</td>\n      <td>$585-629</td>\n      <td>Medium (1000-2000)</td>\n    </tr>\n    <tr>\n      <th>Thomas High School</th>\n      <td>Charter</td>\n      <td>1635</td>\n      <td>$1,043,130.00</td>\n      <td>$638.00</td>\n      <td>83.350937</td>\n      <td>83.896082</td>\n      <td>66.911315</td>\n      <td>69.663609</td>\n      <td>65.076453</td>\n      <td>$630-644</td>\n      <td>Medium (1000-2000)</td>\n    </tr>\n    <tr>\n      <th>Wilson High School</th>\n      <td>Charter</td>\n      <td>2283</td>\n      <td>$1,319,574.00</td>\n      <td>$578.00</td>\n      <td>83.274201</td>\n      <td>83.989488</td>\n      <td>93.867718</td>\n      <td>96.539641</td>\n      <td>90.582567</td>\n      <td>&lt;$584</td>\n      <td>Large (2000-5000)</td>\n    </tr>\n    <tr>\n      <th>Wright High School</th>\n      <td>Charter</td>\n      <td>1800</td>\n      <td>$1,049,400.00</td>\n      <td>$583.00</td>\n      <td>83.682222</td>\n      <td>83.955000</td>\n      <td>93.333333</td>\n      <td>96.611111</td>\n      <td>90.333333</td>\n      <td>&lt;$584</td>\n      <td>Medium (1000-2000)</td>\n    </tr>\n  </tbody>\n</table>\n</div>"
     },
     "metadata": {},
     "execution_count": 2791
    }
   ],
   "source": [
    "#final output\n",
    "per_school_summary_df"
   ]
  },
  {
   "cell_type": "code",
   "execution_count": 2792,
   "metadata": {},
   "outputs": [
    {
     "output_type": "execute_result",
     "data": {
      "text/plain": "   Total Schools Total Students    Total Budget Average Math Score  \\\n0             15         39,170  $24,649,428.00               78.9   \n\n  Average Reading Score % Passing Math % Passing Reading % Overall Passing  \n0                  81.9             74                85                64  ",
      "text/html": "<div>\n<style scoped>\n    .dataframe tbody tr th:only-of-type {\n        vertical-align: middle;\n    }\n\n    .dataframe tbody tr th {\n        vertical-align: top;\n    }\n\n    .dataframe thead th {\n        text-align: right;\n    }\n</style>\n<table border=\"1\" class=\"dataframe\">\n  <thead>\n    <tr style=\"text-align: right;\">\n      <th></th>\n      <th>Total Schools</th>\n      <th>Total Students</th>\n      <th>Total Budget</th>\n      <th>Average Math Score</th>\n      <th>Average Reading Score</th>\n      <th>% Passing Math</th>\n      <th>% Passing Reading</th>\n      <th>% Overall Passing</th>\n    </tr>\n  </thead>\n  <tbody>\n    <tr>\n      <th>0</th>\n      <td>15</td>\n      <td>39,170</td>\n      <td>$24,649,428.00</td>\n      <td>78.9</td>\n      <td>81.9</td>\n      <td>74</td>\n      <td>85</td>\n      <td>64</td>\n    </tr>\n  </tbody>\n</table>\n</div>"
     },
     "metadata": {},
     "execution_count": 2792
    }
   ],
   "source": [
    "district_summary_df"
   ]
  },
  {
   "cell_type": "code",
   "execution_count": 2793,
   "metadata": {},
   "outputs": [
    {
     "output_type": "execute_result",
     "data": {
      "text/plain": "            Average Math Score Average Reading Score % Passing Math  \\\nSchool Type                                                           \nCharter                   83.5                  83.9             90   \nDistrict                  77.0                  81.0             67   \n\n            % Passing Reading % Overall Passing  \nSchool Type                                      \nCharter                    93                87  \nDistrict                   81                54  ",
      "text/html": "<div>\n<style scoped>\n    .dataframe tbody tr th:only-of-type {\n        vertical-align: middle;\n    }\n\n    .dataframe tbody tr th {\n        vertical-align: top;\n    }\n\n    .dataframe thead th {\n        text-align: right;\n    }\n</style>\n<table border=\"1\" class=\"dataframe\">\n  <thead>\n    <tr style=\"text-align: right;\">\n      <th></th>\n      <th>Average Math Score</th>\n      <th>Average Reading Score</th>\n      <th>% Passing Math</th>\n      <th>% Passing Reading</th>\n      <th>% Overall Passing</th>\n    </tr>\n    <tr>\n      <th>School Type</th>\n      <th></th>\n      <th></th>\n      <th></th>\n      <th></th>\n      <th></th>\n    </tr>\n  </thead>\n  <tbody>\n    <tr>\n      <th>Charter</th>\n      <td>83.5</td>\n      <td>83.9</td>\n      <td>90</td>\n      <td>93</td>\n      <td>87</td>\n    </tr>\n    <tr>\n      <th>District</th>\n      <td>77.0</td>\n      <td>81.0</td>\n      <td>67</td>\n      <td>81</td>\n      <td>54</td>\n    </tr>\n  </tbody>\n</table>\n</div>"
     },
     "metadata": {},
     "execution_count": 2793
    }
   ],
   "source": [
    "type_summary_df"
   ]
  },
  {
   "cell_type": "code",
   "execution_count": 2794,
   "metadata": {},
   "outputs": [
    {
     "output_type": "execute_result",
     "data": {
      "text/plain": "                   Average Math Score Average Reading Score % Passing Math  \\\nSchool Size                                                                  \nSmall (<1000)                    83.8                  83.9             94   \nMedium (1000-2000)               83.4                  83.9             88   \nLarge (2000-5000)                77.7                  81.3             70   \n\n                   % Passing Reading % Overall Passing  \nSchool Size                                             \nSmall (<1000)                     96                90  \nMedium (1000-2000)                91                85  \nLarge (2000-5000)                 83                58  ",
      "text/html": "<div>\n<style scoped>\n    .dataframe tbody tr th:only-of-type {\n        vertical-align: middle;\n    }\n\n    .dataframe tbody tr th {\n        vertical-align: top;\n    }\n\n    .dataframe thead th {\n        text-align: right;\n    }\n</style>\n<table border=\"1\" class=\"dataframe\">\n  <thead>\n    <tr style=\"text-align: right;\">\n      <th></th>\n      <th>Average Math Score</th>\n      <th>Average Reading Score</th>\n      <th>% Passing Math</th>\n      <th>% Passing Reading</th>\n      <th>% Overall Passing</th>\n    </tr>\n    <tr>\n      <th>School Size</th>\n      <th></th>\n      <th></th>\n      <th></th>\n      <th></th>\n      <th></th>\n    </tr>\n  </thead>\n  <tbody>\n    <tr>\n      <th>Small (&lt;1000)</th>\n      <td>83.8</td>\n      <td>83.9</td>\n      <td>94</td>\n      <td>96</td>\n      <td>90</td>\n    </tr>\n    <tr>\n      <th>Medium (1000-2000)</th>\n      <td>83.4</td>\n      <td>83.9</td>\n      <td>88</td>\n      <td>91</td>\n      <td>85</td>\n    </tr>\n    <tr>\n      <th>Large (2000-5000)</th>\n      <td>77.7</td>\n      <td>81.3</td>\n      <td>70</td>\n      <td>83</td>\n      <td>58</td>\n    </tr>\n  </tbody>\n</table>\n</div>"
     },
     "metadata": {},
     "execution_count": 2794
    }
   ],
   "source": [
    "size_summary_df"
   ]
  },
  {
   "cell_type": "code",
   "execution_count": 2795,
   "metadata": {},
   "outputs": [
    {
     "output_type": "execute_result",
     "data": {
      "text/plain": "                              Average Math Score Average Reading Score  \\\nSpending Ranges (Per Student)                                            \n<$584                                       83.5                  83.9   \n$585-629                                    81.9                  83.2   \n$630-644                                    78.5                  81.6   \n$645-675                                    77.0                  81.0   \n\n                              % Passing Math % Passing Reading  \\\nSpending Ranges (Per Student)                                    \n<$584                                     93                97   \n$585-629                                  87                93   \n$630-644                                  67                77   \n$645-675                                  66                81   \n\n                              % Overall Passing  \nSpending Ranges (Per Student)                    \n<$584                                        90  \n$585-629                                     81  \n$630-644                                     56  \n$645-675                                     54  ",
      "text/html": "<div>\n<style scoped>\n    .dataframe tbody tr th:only-of-type {\n        vertical-align: middle;\n    }\n\n    .dataframe tbody tr th {\n        vertical-align: top;\n    }\n\n    .dataframe thead th {\n        text-align: right;\n    }\n</style>\n<table border=\"1\" class=\"dataframe\">\n  <thead>\n    <tr style=\"text-align: right;\">\n      <th></th>\n      <th>Average Math Score</th>\n      <th>Average Reading Score</th>\n      <th>% Passing Math</th>\n      <th>% Passing Reading</th>\n      <th>% Overall Passing</th>\n    </tr>\n    <tr>\n      <th>Spending Ranges (Per Student)</th>\n      <th></th>\n      <th></th>\n      <th></th>\n      <th></th>\n      <th></th>\n    </tr>\n  </thead>\n  <tbody>\n    <tr>\n      <th>&lt;$584</th>\n      <td>83.5</td>\n      <td>83.9</td>\n      <td>93</td>\n      <td>97</td>\n      <td>90</td>\n    </tr>\n    <tr>\n      <th>$585-629</th>\n      <td>81.9</td>\n      <td>83.2</td>\n      <td>87</td>\n      <td>93</td>\n      <td>81</td>\n    </tr>\n    <tr>\n      <th>$630-644</th>\n      <td>78.5</td>\n      <td>81.6</td>\n      <td>67</td>\n      <td>77</td>\n      <td>56</td>\n    </tr>\n    <tr>\n      <th>$645-675</th>\n      <td>77.0</td>\n      <td>81.0</td>\n      <td>66</td>\n      <td>81</td>\n      <td>54</td>\n    </tr>\n  </tbody>\n</table>\n</div>"
     },
     "metadata": {},
     "execution_count": 2795
    }
   ],
   "source": [
    "spending_summary_df"
   ]
  },
  {
   "cell_type": "code",
   "execution_count": 2796,
   "metadata": {},
   "outputs": [
    {
     "output_type": "execute_result",
     "data": {
      "text/plain": "                        9th  10th  11th  12th\nBailey High School     81.3  80.9  80.9  80.9\nCabrera High School    83.7  84.3  83.8  84.3\nFigueroa High School   81.2  81.4  80.6  81.4\nFord High School       80.6  81.3  80.4  80.7\nGriffin High School    83.4  83.7  84.3  84.0\nHernandez High School  80.9  80.7  81.4  80.9\nHolden High School     83.7  83.3  83.8  84.7\nHuang High School      81.3  81.5  81.4  80.3\nJohnson High School    81.3  80.8  80.6  81.2\nPena High School       83.8  83.6  84.3  84.6\nRodriguez High School  81.0  80.6  80.9  80.4\nShelton High School    84.1  83.4  84.4  82.8\nThomas High School      nan  84.3  83.6  83.8\nWilson High School     83.9  84.0  83.8  84.3\nWright High School     83.8  83.8  84.2  84.1",
      "text/html": "<div>\n<style scoped>\n    .dataframe tbody tr th:only-of-type {\n        vertical-align: middle;\n    }\n\n    .dataframe tbody tr th {\n        vertical-align: top;\n    }\n\n    .dataframe thead th {\n        text-align: right;\n    }\n</style>\n<table border=\"1\" class=\"dataframe\">\n  <thead>\n    <tr style=\"text-align: right;\">\n      <th></th>\n      <th>9th</th>\n      <th>10th</th>\n      <th>11th</th>\n      <th>12th</th>\n    </tr>\n  </thead>\n  <tbody>\n    <tr>\n      <th>Bailey High School</th>\n      <td>81.3</td>\n      <td>80.9</td>\n      <td>80.9</td>\n      <td>80.9</td>\n    </tr>\n    <tr>\n      <th>Cabrera High School</th>\n      <td>83.7</td>\n      <td>84.3</td>\n      <td>83.8</td>\n      <td>84.3</td>\n    </tr>\n    <tr>\n      <th>Figueroa High School</th>\n      <td>81.2</td>\n      <td>81.4</td>\n      <td>80.6</td>\n      <td>81.4</td>\n    </tr>\n    <tr>\n      <th>Ford High School</th>\n      <td>80.6</td>\n      <td>81.3</td>\n      <td>80.4</td>\n      <td>80.7</td>\n    </tr>\n    <tr>\n      <th>Griffin High School</th>\n      <td>83.4</td>\n      <td>83.7</td>\n      <td>84.3</td>\n      <td>84.0</td>\n    </tr>\n    <tr>\n      <th>Hernandez High School</th>\n      <td>80.9</td>\n      <td>80.7</td>\n      <td>81.4</td>\n      <td>80.9</td>\n    </tr>\n    <tr>\n      <th>Holden High School</th>\n      <td>83.7</td>\n      <td>83.3</td>\n      <td>83.8</td>\n      <td>84.7</td>\n    </tr>\n    <tr>\n      <th>Huang High School</th>\n      <td>81.3</td>\n      <td>81.5</td>\n      <td>81.4</td>\n      <td>80.3</td>\n    </tr>\n    <tr>\n      <th>Johnson High School</th>\n      <td>81.3</td>\n      <td>80.8</td>\n      <td>80.6</td>\n      <td>81.2</td>\n    </tr>\n    <tr>\n      <th>Pena High School</th>\n      <td>83.8</td>\n      <td>83.6</td>\n      <td>84.3</td>\n      <td>84.6</td>\n    </tr>\n    <tr>\n      <th>Rodriguez High School</th>\n      <td>81.0</td>\n      <td>80.6</td>\n      <td>80.9</td>\n      <td>80.4</td>\n    </tr>\n    <tr>\n      <th>Shelton High School</th>\n      <td>84.1</td>\n      <td>83.4</td>\n      <td>84.4</td>\n      <td>82.8</td>\n    </tr>\n    <tr>\n      <th>Thomas High School</th>\n      <td>nan</td>\n      <td>84.3</td>\n      <td>83.6</td>\n      <td>83.8</td>\n    </tr>\n    <tr>\n      <th>Wilson High School</th>\n      <td>83.9</td>\n      <td>84.0</td>\n      <td>83.8</td>\n      <td>84.3</td>\n    </tr>\n    <tr>\n      <th>Wright High School</th>\n      <td>83.8</td>\n      <td>83.8</td>\n      <td>84.2</td>\n      <td>84.1</td>\n    </tr>\n  </tbody>\n</table>\n</div>"
     },
     "metadata": {},
     "execution_count": 2796
    }
   ],
   "source": [
    "reading_scores_by_grade"
   ]
  },
  {
   "cell_type": "code",
   "execution_count": 2797,
   "metadata": {},
   "outputs": [
    {
     "output_type": "execute_result",
     "data": {
      "text/plain": "                        9th  10th  11th  12th\nBailey High School     77.1  77.0  77.5  76.5\nCabrera High School    83.1  83.2  82.8  83.3\nFigueroa High School   76.4  76.5  76.9  77.2\nFord High School       77.4  77.7  76.9  76.2\nGriffin High School    82.0  84.2  83.8  83.4\nHernandez High School  77.4  77.3  77.1  77.2\nHolden High School     83.8  83.4  85.0  82.9\nHuang High School      77.0  75.9  76.4  77.2\nJohnson High School    77.2  76.7  77.5  76.9\nPena High School       83.6  83.4  84.3  84.1\nRodriguez High School  76.9  76.6  76.4  77.7\nShelton High School    83.4  82.9  83.4  83.8\nThomas High School      nan  83.1  83.5  83.5\nWilson High School     83.1  83.7  83.2  83.0\nWright High School     83.3  84.0  83.8  83.6",
      "text/html": "<div>\n<style scoped>\n    .dataframe tbody tr th:only-of-type {\n        vertical-align: middle;\n    }\n\n    .dataframe tbody tr th {\n        vertical-align: top;\n    }\n\n    .dataframe thead th {\n        text-align: right;\n    }\n</style>\n<table border=\"1\" class=\"dataframe\">\n  <thead>\n    <tr style=\"text-align: right;\">\n      <th></th>\n      <th>9th</th>\n      <th>10th</th>\n      <th>11th</th>\n      <th>12th</th>\n    </tr>\n  </thead>\n  <tbody>\n    <tr>\n      <th>Bailey High School</th>\n      <td>77.1</td>\n      <td>77.0</td>\n      <td>77.5</td>\n      <td>76.5</td>\n    </tr>\n    <tr>\n      <th>Cabrera High School</th>\n      <td>83.1</td>\n      <td>83.2</td>\n      <td>82.8</td>\n      <td>83.3</td>\n    </tr>\n    <tr>\n      <th>Figueroa High School</th>\n      <td>76.4</td>\n      <td>76.5</td>\n      <td>76.9</td>\n      <td>77.2</td>\n    </tr>\n    <tr>\n      <th>Ford High School</th>\n      <td>77.4</td>\n      <td>77.7</td>\n      <td>76.9</td>\n      <td>76.2</td>\n    </tr>\n    <tr>\n      <th>Griffin High School</th>\n      <td>82.0</td>\n      <td>84.2</td>\n      <td>83.8</td>\n      <td>83.4</td>\n    </tr>\n    <tr>\n      <th>Hernandez High School</th>\n      <td>77.4</td>\n      <td>77.3</td>\n      <td>77.1</td>\n      <td>77.2</td>\n    </tr>\n    <tr>\n      <th>Holden High School</th>\n      <td>83.8</td>\n      <td>83.4</td>\n      <td>85.0</td>\n      <td>82.9</td>\n    </tr>\n    <tr>\n      <th>Huang High School</th>\n      <td>77.0</td>\n      <td>75.9</td>\n      <td>76.4</td>\n      <td>77.2</td>\n    </tr>\n    <tr>\n      <th>Johnson High School</th>\n      <td>77.2</td>\n      <td>76.7</td>\n      <td>77.5</td>\n      <td>76.9</td>\n    </tr>\n    <tr>\n      <th>Pena High School</th>\n      <td>83.6</td>\n      <td>83.4</td>\n      <td>84.3</td>\n      <td>84.1</td>\n    </tr>\n    <tr>\n      <th>Rodriguez High School</th>\n      <td>76.9</td>\n      <td>76.6</td>\n      <td>76.4</td>\n      <td>77.7</td>\n    </tr>\n    <tr>\n      <th>Shelton High School</th>\n      <td>83.4</td>\n      <td>82.9</td>\n      <td>83.4</td>\n      <td>83.8</td>\n    </tr>\n    <tr>\n      <th>Thomas High School</th>\n      <td>nan</td>\n      <td>83.1</td>\n      <td>83.5</td>\n      <td>83.5</td>\n    </tr>\n    <tr>\n      <th>Wilson High School</th>\n      <td>83.1</td>\n      <td>83.7</td>\n      <td>83.2</td>\n      <td>83.0</td>\n    </tr>\n    <tr>\n      <th>Wright High School</th>\n      <td>83.3</td>\n      <td>84.0</td>\n      <td>83.8</td>\n      <td>83.6</td>\n    </tr>\n  </tbody>\n</table>\n</div>"
     },
     "metadata": {},
     "execution_count": 2797
    }
   ],
   "source": [
    "math_scores_by_grade"
   ]
  },
  {
   "cell_type": "code",
   "execution_count": 2798,
   "metadata": {},
   "outputs": [
    {
     "output_type": "execute_result",
     "data": {
      "text/plain": "                      School Type  Total Students Total School Budget  \\\nCabrera High School       Charter            1858       $1,081,356.00   \nGriffin High School       Charter            1468         $917,500.00   \nWilson High School        Charter            2283       $1,319,574.00   \nPena High School          Charter             962         $585,858.00   \nWright High School        Charter            1800       $1,049,400.00   \nShelton High School       Charter            1761       $1,056,600.00   \nHolden High School        Charter             427         $248,087.00   \nThomas High School        Charter            1635       $1,043,130.00   \nBailey High School       District            4976       $3,124,928.00   \nFord High School         District            2739       $1,763,916.00   \nJohnson High School      District            4761       $3,094,650.00   \nHernandez High School    District            4635       $3,022,020.00   \nHuang High School        District            2917       $1,910,635.00   \nFigueroa High School     District            2949       $1,884,411.00   \nRodriguez High School    District            3999       $2,547,363.00   \n\n                      Per Student Budget  Average Math Score  \\\nCabrera High School              $582.00           83.061895   \nGriffin High School              $625.00           83.351499   \nWilson High School               $578.00           83.274201   \nPena High School                 $609.00           83.839917   \nWright High School               $583.00           83.682222   \nShelton High School              $600.00           83.359455   \nHolden High School               $581.00           83.803279   \nThomas High School               $638.00           83.350937   \nBailey High School               $628.00           77.048432   \nFord High School                 $644.00           77.102592   \nJohnson High School              $650.00           77.072464   \nHernandez High School            $652.00           77.289752   \nHuang High School                $655.00           76.629414   \nFigueroa High School             $639.00           76.711767   \nRodriguez High School            $637.00           76.842711   \n\n                       Average Reading Score  % Passing Math  \\\nCabrera High School                83.975780       94.133477   \nGriffin High School                83.816757       93.392371   \nWilson High School                 83.989488       93.867718   \nPena High School                   84.044699       94.594595   \nWright High School                 83.955000       93.333333   \nShelton High School                83.725724       93.867121   \nHolden High School                 83.814988       92.505855   \nThomas High School                 83.896082       66.911315   \nBailey High School                 81.033963       66.680064   \nFord High School                   80.746258       68.309602   \nJohnson High School                80.966394       66.057551   \nHernandez High School              80.934412       66.752967   \nHuang High School                  81.182722       65.683922   \nFigueroa High School               81.158020       65.988471   \nRodriguez High School              80.744686       66.366592   \n\n                       % Passing Reading  % Overall Passing  \nCabrera High School            97.039828          91.334769  \nGriffin High School            97.138965          90.599455  \nWilson High School             96.539641          90.582567  \nPena High School               95.945946          90.540541  \nWright High School             96.611111          90.333333  \nShelton High School            95.854628          89.892107  \nHolden High School             96.252927          89.227166  \nThomas High School             69.663609          65.076453  \nBailey High School             81.933280          54.642283  \nFord High School               79.299014          54.289887  \nJohnson High School            81.222432          53.539172  \nHernandez High School          80.862999          53.527508  \nHuang High School              81.316421          53.513884  \nFigueroa High School           80.739234          53.204476  \nRodriguez High School          80.220055          52.988247  ",
      "text/html": "<div>\n<style scoped>\n    .dataframe tbody tr th:only-of-type {\n        vertical-align: middle;\n    }\n\n    .dataframe tbody tr th {\n        vertical-align: top;\n    }\n\n    .dataframe thead th {\n        text-align: right;\n    }\n</style>\n<table border=\"1\" class=\"dataframe\">\n  <thead>\n    <tr style=\"text-align: right;\">\n      <th></th>\n      <th>School Type</th>\n      <th>Total Students</th>\n      <th>Total School Budget</th>\n      <th>Per Student Budget</th>\n      <th>Average Math Score</th>\n      <th>Average Reading Score</th>\n      <th>% Passing Math</th>\n      <th>% Passing Reading</th>\n      <th>% Overall Passing</th>\n    </tr>\n  </thead>\n  <tbody>\n    <tr>\n      <th>Cabrera High School</th>\n      <td>Charter</td>\n      <td>1858</td>\n      <td>$1,081,356.00</td>\n      <td>$582.00</td>\n      <td>83.061895</td>\n      <td>83.975780</td>\n      <td>94.133477</td>\n      <td>97.039828</td>\n      <td>91.334769</td>\n    </tr>\n    <tr>\n      <th>Griffin High School</th>\n      <td>Charter</td>\n      <td>1468</td>\n      <td>$917,500.00</td>\n      <td>$625.00</td>\n      <td>83.351499</td>\n      <td>83.816757</td>\n      <td>93.392371</td>\n      <td>97.138965</td>\n      <td>90.599455</td>\n    </tr>\n    <tr>\n      <th>Wilson High School</th>\n      <td>Charter</td>\n      <td>2283</td>\n      <td>$1,319,574.00</td>\n      <td>$578.00</td>\n      <td>83.274201</td>\n      <td>83.989488</td>\n      <td>93.867718</td>\n      <td>96.539641</td>\n      <td>90.582567</td>\n    </tr>\n    <tr>\n      <th>Pena High School</th>\n      <td>Charter</td>\n      <td>962</td>\n      <td>$585,858.00</td>\n      <td>$609.00</td>\n      <td>83.839917</td>\n      <td>84.044699</td>\n      <td>94.594595</td>\n      <td>95.945946</td>\n      <td>90.540541</td>\n    </tr>\n    <tr>\n      <th>Wright High School</th>\n      <td>Charter</td>\n      <td>1800</td>\n      <td>$1,049,400.00</td>\n      <td>$583.00</td>\n      <td>83.682222</td>\n      <td>83.955000</td>\n      <td>93.333333</td>\n      <td>96.611111</td>\n      <td>90.333333</td>\n    </tr>\n    <tr>\n      <th>Shelton High School</th>\n      <td>Charter</td>\n      <td>1761</td>\n      <td>$1,056,600.00</td>\n      <td>$600.00</td>\n      <td>83.359455</td>\n      <td>83.725724</td>\n      <td>93.867121</td>\n      <td>95.854628</td>\n      <td>89.892107</td>\n    </tr>\n    <tr>\n      <th>Holden High School</th>\n      <td>Charter</td>\n      <td>427</td>\n      <td>$248,087.00</td>\n      <td>$581.00</td>\n      <td>83.803279</td>\n      <td>83.814988</td>\n      <td>92.505855</td>\n      <td>96.252927</td>\n      <td>89.227166</td>\n    </tr>\n    <tr>\n      <th>Thomas High School</th>\n      <td>Charter</td>\n      <td>1635</td>\n      <td>$1,043,130.00</td>\n      <td>$638.00</td>\n      <td>83.350937</td>\n      <td>83.896082</td>\n      <td>66.911315</td>\n      <td>69.663609</td>\n      <td>65.076453</td>\n    </tr>\n    <tr>\n      <th>Bailey High School</th>\n      <td>District</td>\n      <td>4976</td>\n      <td>$3,124,928.00</td>\n      <td>$628.00</td>\n      <td>77.048432</td>\n      <td>81.033963</td>\n      <td>66.680064</td>\n      <td>81.933280</td>\n      <td>54.642283</td>\n    </tr>\n    <tr>\n      <th>Ford High School</th>\n      <td>District</td>\n      <td>2739</td>\n      <td>$1,763,916.00</td>\n      <td>$644.00</td>\n      <td>77.102592</td>\n      <td>80.746258</td>\n      <td>68.309602</td>\n      <td>79.299014</td>\n      <td>54.289887</td>\n    </tr>\n    <tr>\n      <th>Johnson High School</th>\n      <td>District</td>\n      <td>4761</td>\n      <td>$3,094,650.00</td>\n      <td>$650.00</td>\n      <td>77.072464</td>\n      <td>80.966394</td>\n      <td>66.057551</td>\n      <td>81.222432</td>\n      <td>53.539172</td>\n    </tr>\n    <tr>\n      <th>Hernandez High School</th>\n      <td>District</td>\n      <td>4635</td>\n      <td>$3,022,020.00</td>\n      <td>$652.00</td>\n      <td>77.289752</td>\n      <td>80.934412</td>\n      <td>66.752967</td>\n      <td>80.862999</td>\n      <td>53.527508</td>\n    </tr>\n    <tr>\n      <th>Huang High School</th>\n      <td>District</td>\n      <td>2917</td>\n      <td>$1,910,635.00</td>\n      <td>$655.00</td>\n      <td>76.629414</td>\n      <td>81.182722</td>\n      <td>65.683922</td>\n      <td>81.316421</td>\n      <td>53.513884</td>\n    </tr>\n    <tr>\n      <th>Figueroa High School</th>\n      <td>District</td>\n      <td>2949</td>\n      <td>$1,884,411.00</td>\n      <td>$639.00</td>\n      <td>76.711767</td>\n      <td>81.158020</td>\n      <td>65.988471</td>\n      <td>80.739234</td>\n      <td>53.204476</td>\n    </tr>\n    <tr>\n      <th>Rodriguez High School</th>\n      <td>District</td>\n      <td>3999</td>\n      <td>$2,547,363.00</td>\n      <td>$637.00</td>\n      <td>76.842711</td>\n      <td>80.744686</td>\n      <td>66.366592</td>\n      <td>80.220055</td>\n      <td>52.988247</td>\n    </tr>\n  </tbody>\n</table>\n</div>"
     },
     "metadata": {},
     "execution_count": 2798
    }
   ],
   "source": [
    "top_schools"
   ]
  },
  {
   "cell_type": "code",
   "execution_count": 2799,
   "metadata": {},
   "outputs": [
    {
     "output_type": "execute_result",
     "data": {
      "text/plain": "                      School Type  Total Students Total School Budget  \\\nRodriguez High School    District            3999       $2,547,363.00   \nFigueroa High School     District            2949       $1,884,411.00   \nHuang High School        District            2917       $1,910,635.00   \nHernandez High School    District            4635       $3,022,020.00   \nJohnson High School      District            4761       $3,094,650.00   \nFord High School         District            2739       $1,763,916.00   \nBailey High School       District            4976       $3,124,928.00   \nThomas High School        Charter            1635       $1,043,130.00   \nHolden High School        Charter             427         $248,087.00   \nShelton High School       Charter            1761       $1,056,600.00   \nWright High School        Charter            1800       $1,049,400.00   \nPena High School          Charter             962         $585,858.00   \nWilson High School        Charter            2283       $1,319,574.00   \nGriffin High School       Charter            1468         $917,500.00   \nCabrera High School       Charter            1858       $1,081,356.00   \n\n                      Per Student Budget  Average Math Score  \\\nRodriguez High School            $637.00           76.842711   \nFigueroa High School             $639.00           76.711767   \nHuang High School                $655.00           76.629414   \nHernandez High School            $652.00           77.289752   \nJohnson High School              $650.00           77.072464   \nFord High School                 $644.00           77.102592   \nBailey High School               $628.00           77.048432   \nThomas High School               $638.00           83.350937   \nHolden High School               $581.00           83.803279   \nShelton High School              $600.00           83.359455   \nWright High School               $583.00           83.682222   \nPena High School                 $609.00           83.839917   \nWilson High School               $578.00           83.274201   \nGriffin High School              $625.00           83.351499   \nCabrera High School              $582.00           83.061895   \n\n                       Average Reading Score  % Passing Math  \\\nRodriguez High School              80.744686       66.366592   \nFigueroa High School               81.158020       65.988471   \nHuang High School                  81.182722       65.683922   \nHernandez High School              80.934412       66.752967   \nJohnson High School                80.966394       66.057551   \nFord High School                   80.746258       68.309602   \nBailey High School                 81.033963       66.680064   \nThomas High School                 83.896082       66.911315   \nHolden High School                 83.814988       92.505855   \nShelton High School                83.725724       93.867121   \nWright High School                 83.955000       93.333333   \nPena High School                   84.044699       94.594595   \nWilson High School                 83.989488       93.867718   \nGriffin High School                83.816757       93.392371   \nCabrera High School                83.975780       94.133477   \n\n                       % Passing Reading  % Overall Passing  \nRodriguez High School          80.220055          52.988247  \nFigueroa High School           80.739234          53.204476  \nHuang High School              81.316421          53.513884  \nHernandez High School          80.862999          53.527508  \nJohnson High School            81.222432          53.539172  \nFord High School               79.299014          54.289887  \nBailey High School             81.933280          54.642283  \nThomas High School             69.663609          65.076453  \nHolden High School             96.252927          89.227166  \nShelton High School            95.854628          89.892107  \nWright High School             96.611111          90.333333  \nPena High School               95.945946          90.540541  \nWilson High School             96.539641          90.582567  \nGriffin High School            97.138965          90.599455  \nCabrera High School            97.039828          91.334769  ",
      "text/html": "<div>\n<style scoped>\n    .dataframe tbody tr th:only-of-type {\n        vertical-align: middle;\n    }\n\n    .dataframe tbody tr th {\n        vertical-align: top;\n    }\n\n    .dataframe thead th {\n        text-align: right;\n    }\n</style>\n<table border=\"1\" class=\"dataframe\">\n  <thead>\n    <tr style=\"text-align: right;\">\n      <th></th>\n      <th>School Type</th>\n      <th>Total Students</th>\n      <th>Total School Budget</th>\n      <th>Per Student Budget</th>\n      <th>Average Math Score</th>\n      <th>Average Reading Score</th>\n      <th>% Passing Math</th>\n      <th>% Passing Reading</th>\n      <th>% Overall Passing</th>\n    </tr>\n  </thead>\n  <tbody>\n    <tr>\n      <th>Rodriguez High School</th>\n      <td>District</td>\n      <td>3999</td>\n      <td>$2,547,363.00</td>\n      <td>$637.00</td>\n      <td>76.842711</td>\n      <td>80.744686</td>\n      <td>66.366592</td>\n      <td>80.220055</td>\n      <td>52.988247</td>\n    </tr>\n    <tr>\n      <th>Figueroa High School</th>\n      <td>District</td>\n      <td>2949</td>\n      <td>$1,884,411.00</td>\n      <td>$639.00</td>\n      <td>76.711767</td>\n      <td>81.158020</td>\n      <td>65.988471</td>\n      <td>80.739234</td>\n      <td>53.204476</td>\n    </tr>\n    <tr>\n      <th>Huang High School</th>\n      <td>District</td>\n      <td>2917</td>\n      <td>$1,910,635.00</td>\n      <td>$655.00</td>\n      <td>76.629414</td>\n      <td>81.182722</td>\n      <td>65.683922</td>\n      <td>81.316421</td>\n      <td>53.513884</td>\n    </tr>\n    <tr>\n      <th>Hernandez High School</th>\n      <td>District</td>\n      <td>4635</td>\n      <td>$3,022,020.00</td>\n      <td>$652.00</td>\n      <td>77.289752</td>\n      <td>80.934412</td>\n      <td>66.752967</td>\n      <td>80.862999</td>\n      <td>53.527508</td>\n    </tr>\n    <tr>\n      <th>Johnson High School</th>\n      <td>District</td>\n      <td>4761</td>\n      <td>$3,094,650.00</td>\n      <td>$650.00</td>\n      <td>77.072464</td>\n      <td>80.966394</td>\n      <td>66.057551</td>\n      <td>81.222432</td>\n      <td>53.539172</td>\n    </tr>\n    <tr>\n      <th>Ford High School</th>\n      <td>District</td>\n      <td>2739</td>\n      <td>$1,763,916.00</td>\n      <td>$644.00</td>\n      <td>77.102592</td>\n      <td>80.746258</td>\n      <td>68.309602</td>\n      <td>79.299014</td>\n      <td>54.289887</td>\n    </tr>\n    <tr>\n      <th>Bailey High School</th>\n      <td>District</td>\n      <td>4976</td>\n      <td>$3,124,928.00</td>\n      <td>$628.00</td>\n      <td>77.048432</td>\n      <td>81.033963</td>\n      <td>66.680064</td>\n      <td>81.933280</td>\n      <td>54.642283</td>\n    </tr>\n    <tr>\n      <th>Thomas High School</th>\n      <td>Charter</td>\n      <td>1635</td>\n      <td>$1,043,130.00</td>\n      <td>$638.00</td>\n      <td>83.350937</td>\n      <td>83.896082</td>\n      <td>66.911315</td>\n      <td>69.663609</td>\n      <td>65.076453</td>\n    </tr>\n    <tr>\n      <th>Holden High School</th>\n      <td>Charter</td>\n      <td>427</td>\n      <td>$248,087.00</td>\n      <td>$581.00</td>\n      <td>83.803279</td>\n      <td>83.814988</td>\n      <td>92.505855</td>\n      <td>96.252927</td>\n      <td>89.227166</td>\n    </tr>\n    <tr>\n      <th>Shelton High School</th>\n      <td>Charter</td>\n      <td>1761</td>\n      <td>$1,056,600.00</td>\n      <td>$600.00</td>\n      <td>83.359455</td>\n      <td>83.725724</td>\n      <td>93.867121</td>\n      <td>95.854628</td>\n      <td>89.892107</td>\n    </tr>\n    <tr>\n      <th>Wright High School</th>\n      <td>Charter</td>\n      <td>1800</td>\n      <td>$1,049,400.00</td>\n      <td>$583.00</td>\n      <td>83.682222</td>\n      <td>83.955000</td>\n      <td>93.333333</td>\n      <td>96.611111</td>\n      <td>90.333333</td>\n    </tr>\n    <tr>\n      <th>Pena High School</th>\n      <td>Charter</td>\n      <td>962</td>\n      <td>$585,858.00</td>\n      <td>$609.00</td>\n      <td>83.839917</td>\n      <td>84.044699</td>\n      <td>94.594595</td>\n      <td>95.945946</td>\n      <td>90.540541</td>\n    </tr>\n    <tr>\n      <th>Wilson High School</th>\n      <td>Charter</td>\n      <td>2283</td>\n      <td>$1,319,574.00</td>\n      <td>$578.00</td>\n      <td>83.274201</td>\n      <td>83.989488</td>\n      <td>93.867718</td>\n      <td>96.539641</td>\n      <td>90.582567</td>\n    </tr>\n    <tr>\n      <th>Griffin High School</th>\n      <td>Charter</td>\n      <td>1468</td>\n      <td>$917,500.00</td>\n      <td>$625.00</td>\n      <td>83.351499</td>\n      <td>83.816757</td>\n      <td>93.392371</td>\n      <td>97.138965</td>\n      <td>90.599455</td>\n    </tr>\n    <tr>\n      <th>Cabrera High School</th>\n      <td>Charter</td>\n      <td>1858</td>\n      <td>$1,081,356.00</td>\n      <td>$582.00</td>\n      <td>83.061895</td>\n      <td>83.975780</td>\n      <td>94.133477</td>\n      <td>97.039828</td>\n      <td>91.334769</td>\n    </tr>\n  </tbody>\n</table>\n</div>"
     },
     "metadata": {},
     "execution_count": 2799
    }
   ],
   "source": [
    "bottom_schools"
   ]
  }
 ],
 "metadata": {
  "kernelspec": {
   "display_name": "PythonData",
   "language": "python",
   "name": "pythondata"
  },
  "language_info": {
   "codemirror_mode": {
    "name": "ipython",
    "version": 3
   },
   "file_extension": ".py",
   "mimetype": "text/x-python",
   "name": "python",
   "nbconvert_exporter": "python",
   "pygments_lexer": "ipython3",
   "version": "3.7.7-final"
  }
 },
 "nbformat": 4,
 "nbformat_minor": 4
}